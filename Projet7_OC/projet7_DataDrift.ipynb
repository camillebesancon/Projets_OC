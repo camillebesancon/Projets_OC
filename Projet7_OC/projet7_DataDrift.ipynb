{
 "cells": [
  {
   "cell_type": "markdown",
   "id": "e342bd65",
   "metadata": {},
   "source": [
    "# Analyse de data-drifting\n",
    "\n",
    "Création d'un rapport HTML sur des données plus récentes que les données d'entrainement\n",
    "\n",
    "Test de la connection à l'API sur AWS"
   ]
  },
  {
   "cell_type": "markdown",
   "id": "fae8d9bd",
   "metadata": {},
   "source": [
    "https://github.com/evidentlyai/evidently/tree/main/examples#10-minutes-to-evidently"
   ]
  },
  {
   "cell_type": "code",
   "execution_count": 1,
   "id": "31a4c440",
   "metadata": {},
   "outputs": [],
   "source": [
    "import pandas as pd\n",
    "import numpy as np\n",
    "import matplotlib.pyplot as plt\n",
    "import seaborn as sns\n",
    "from os import listdir\n",
    "from sklearn import preprocessing\n",
    "from sklearn.preprocessing import RobustScaler\n",
    "from tqdm.notebook import trange, tqdm\n",
    "import time\n",
    "import requests\n",
    "import io\n",
    "import os\n",
    "\n",
    "from sklearn import pipeline as pip\n",
    "import pickle\n",
    "import mlflow\n",
    "from mlflow.models.signature import infer_signature\n",
    "import mlflow.sklearn\n",
    "import logging\n",
    "\n",
    "logging.basicConfig(level=logging.WARN)\n",
    "\n",
    "from urllib.parse import urlparse\n",
    "import pkg_resources\n",
    "\n",
    "from flask import Flask, request, jsonify"
   ]
  },
  {
   "cell_type": "markdown",
   "id": "76b1b525",
   "metadata": {},
   "source": [
    "## Data drifting :\n",
    "Mesure effectuée sur un deuxième jeu de données fourni (df_test.csv), l'API que nous avons mis en place enregistre également toutes les prédictions faites depuis le dashboard Streamlit (final_data/model_output.csv). Il sera possible de reconduire l'analyse de data drift sur ces données une fois assez de prédictions effectuées."
   ]
  },
  {
   "cell_type": "code",
   "execution_count": 2,
   "id": "ccd4e5d8",
   "metadata": {},
   "outputs": [
    {
     "data": {
      "text/html": [
       "<div>\n",
       "<style scoped>\n",
       "    .dataframe tbody tr th:only-of-type {\n",
       "        vertical-align: middle;\n",
       "    }\n",
       "\n",
       "    .dataframe tbody tr th {\n",
       "        vertical-align: top;\n",
       "    }\n",
       "\n",
       "    .dataframe thead th {\n",
       "        text-align: right;\n",
       "    }\n",
       "</style>\n",
       "<table border=\"1\" class=\"dataframe\">\n",
       "  <thead>\n",
       "    <tr style=\"text-align: right;\">\n",
       "      <th></th>\n",
       "      <th>EXT_SOURCE_3</th>\n",
       "      <th>EXT_SOURCE_2</th>\n",
       "      <th>DAYS_ID_PUBLISH</th>\n",
       "      <th>DAYS_REGISTRATION</th>\n",
       "      <th>DAYS_LAST_PHONE_CHANGE</th>\n",
       "      <th>REGION_POPULATION_RELATIVE</th>\n",
       "      <th>AMT_INCOME_TOTAL</th>\n",
       "      <th>HOUR_APPR_PROCESS_START</th>\n",
       "      <th>AMT_REQ_CREDIT_BUREAU_YEAR</th>\n",
       "      <th>CODE_GENDER</th>\n",
       "    </tr>\n",
       "  </thead>\n",
       "  <tbody>\n",
       "    <tr>\n",
       "      <th>0</th>\n",
       "      <td>0.159520</td>\n",
       "      <td>0.789654</td>\n",
       "      <td>-812</td>\n",
       "      <td>-5170.0</td>\n",
       "      <td>-1740.0</td>\n",
       "      <td>0.018850</td>\n",
       "      <td>135000.0</td>\n",
       "      <td>18</td>\n",
       "      <td>0.0</td>\n",
       "      <td>0</td>\n",
       "    </tr>\n",
       "    <tr>\n",
       "      <th>1</th>\n",
       "      <td>0.432962</td>\n",
       "      <td>0.291656</td>\n",
       "      <td>-1623</td>\n",
       "      <td>-9118.0</td>\n",
       "      <td>0.0</td>\n",
       "      <td>0.035792</td>\n",
       "      <td>99000.0</td>\n",
       "      <td>9</td>\n",
       "      <td>3.0</td>\n",
       "      <td>1</td>\n",
       "    </tr>\n",
       "    <tr>\n",
       "      <th>2</th>\n",
       "      <td>0.610991</td>\n",
       "      <td>0.699787</td>\n",
       "      <td>-3503</td>\n",
       "      <td>-2175.0</td>\n",
       "      <td>-856.0</td>\n",
       "      <td>0.019101</td>\n",
       "      <td>202500.0</td>\n",
       "      <td>14</td>\n",
       "      <td>4.0</td>\n",
       "      <td>1</td>\n",
       "    </tr>\n",
       "    <tr>\n",
       "      <th>3</th>\n",
       "      <td>0.612704</td>\n",
       "      <td>0.509677</td>\n",
       "      <td>-4208</td>\n",
       "      <td>-2000.0</td>\n",
       "      <td>-1805.0</td>\n",
       "      <td>0.026392</td>\n",
       "      <td>315000.0</td>\n",
       "      <td>11</td>\n",
       "      <td>3.0</td>\n",
       "      <td>0</td>\n",
       "    </tr>\n",
       "    <tr>\n",
       "      <th>5</th>\n",
       "      <td>0.392774</td>\n",
       "      <td>0.628904</td>\n",
       "      <td>-2027</td>\n",
       "      <td>-6116.0</td>\n",
       "      <td>-1705.0</td>\n",
       "      <td>0.025164</td>\n",
       "      <td>270000.0</td>\n",
       "      <td>15</td>\n",
       "      <td>2.0</td>\n",
       "      <td>0</td>\n",
       "    </tr>\n",
       "    <tr>\n",
       "      <th>...</th>\n",
       "      <td>...</td>\n",
       "      <td>...</td>\n",
       "      <td>...</td>\n",
       "      <td>...</td>\n",
       "      <td>...</td>\n",
       "      <td>...</td>\n",
       "      <td>...</td>\n",
       "      <td>...</td>\n",
       "      <td>...</td>\n",
       "      <td>...</td>\n",
       "    </tr>\n",
       "    <tr>\n",
       "      <th>48738</th>\n",
       "      <td>0.240541</td>\n",
       "      <td>0.762352</td>\n",
       "      <td>-4178</td>\n",
       "      <td>-174.0</td>\n",
       "      <td>-987.0</td>\n",
       "      <td>0.009175</td>\n",
       "      <td>135000.0</td>\n",
       "      <td>16</td>\n",
       "      <td>2.0</td>\n",
       "      <td>0</td>\n",
       "    </tr>\n",
       "    <tr>\n",
       "      <th>48739</th>\n",
       "      <td>0.643026</td>\n",
       "      <td>0.648575</td>\n",
       "      <td>-3399</td>\n",
       "      <td>-9094.0</td>\n",
       "      <td>-684.0</td>\n",
       "      <td>0.002042</td>\n",
       "      <td>121500.0</td>\n",
       "      <td>16</td>\n",
       "      <td>1.0</td>\n",
       "      <td>0</td>\n",
       "    </tr>\n",
       "    <tr>\n",
       "      <th>48741</th>\n",
       "      <td>0.283712</td>\n",
       "      <td>0.632770</td>\n",
       "      <td>-1504</td>\n",
       "      <td>-2681.0</td>\n",
       "      <td>-838.0</td>\n",
       "      <td>0.026392</td>\n",
       "      <td>202500.0</td>\n",
       "      <td>12</td>\n",
       "      <td>1.0</td>\n",
       "      <td>0</td>\n",
       "    </tr>\n",
       "    <tr>\n",
       "      <th>48742</th>\n",
       "      <td>0.595456</td>\n",
       "      <td>0.445701</td>\n",
       "      <td>-1364</td>\n",
       "      <td>-1461.0</td>\n",
       "      <td>-2308.0</td>\n",
       "      <td>0.018850</td>\n",
       "      <td>225000.0</td>\n",
       "      <td>10</td>\n",
       "      <td>2.0</td>\n",
       "      <td>1</td>\n",
       "    </tr>\n",
       "    <tr>\n",
       "      <th>48743</th>\n",
       "      <td>0.272134</td>\n",
       "      <td>0.456541</td>\n",
       "      <td>-4220</td>\n",
       "      <td>-1072.0</td>\n",
       "      <td>-327.0</td>\n",
       "      <td>0.006629</td>\n",
       "      <td>135000.0</td>\n",
       "      <td>14</td>\n",
       "      <td>4.0</td>\n",
       "      <td>0</td>\n",
       "    </tr>\n",
       "  </tbody>\n",
       "</table>\n",
       "<p>40075 rows × 10 columns</p>\n",
       "</div>"
      ],
      "text/plain": [
       "       EXT_SOURCE_3  EXT_SOURCE_2  DAYS_ID_PUBLISH  DAYS_REGISTRATION  \\\n",
       "0          0.159520      0.789654             -812            -5170.0   \n",
       "1          0.432962      0.291656            -1623            -9118.0   \n",
       "2          0.610991      0.699787            -3503            -2175.0   \n",
       "3          0.612704      0.509677            -4208            -2000.0   \n",
       "5          0.392774      0.628904            -2027            -6116.0   \n",
       "...             ...           ...              ...                ...   \n",
       "48738      0.240541      0.762352            -4178             -174.0   \n",
       "48739      0.643026      0.648575            -3399            -9094.0   \n",
       "48741      0.283712      0.632770            -1504            -2681.0   \n",
       "48742      0.595456      0.445701            -1364            -1461.0   \n",
       "48743      0.272134      0.456541            -4220            -1072.0   \n",
       "\n",
       "       DAYS_LAST_PHONE_CHANGE  REGION_POPULATION_RELATIVE  AMT_INCOME_TOTAL  \\\n",
       "0                     -1740.0                    0.018850          135000.0   \n",
       "1                         0.0                    0.035792           99000.0   \n",
       "2                      -856.0                    0.019101          202500.0   \n",
       "3                     -1805.0                    0.026392          315000.0   \n",
       "5                     -1705.0                    0.025164          270000.0   \n",
       "...                       ...                         ...               ...   \n",
       "48738                  -987.0                    0.009175          135000.0   \n",
       "48739                  -684.0                    0.002042          121500.0   \n",
       "48741                  -838.0                    0.026392          202500.0   \n",
       "48742                 -2308.0                    0.018850          225000.0   \n",
       "48743                  -327.0                    0.006629          135000.0   \n",
       "\n",
       "       HOUR_APPR_PROCESS_START  AMT_REQ_CREDIT_BUREAU_YEAR  CODE_GENDER  \n",
       "0                           18                         0.0            0  \n",
       "1                            9                         3.0            1  \n",
       "2                           14                         4.0            1  \n",
       "3                           11                         3.0            0  \n",
       "5                           15                         2.0            0  \n",
       "...                        ...                         ...          ...  \n",
       "48738                       16                         2.0            0  \n",
       "48739                       16                         1.0            0  \n",
       "48741                       12                         1.0            0  \n",
       "48742                       10                         2.0            1  \n",
       "48743                       14                         4.0            0  \n",
       "\n",
       "[40075 rows x 10 columns]"
      ]
     },
     "execution_count": 2,
     "metadata": {},
     "output_type": "execute_result"
    }
   ],
   "source": [
    "df_test = pd.read_csv(\"final_data/df_test.csv\", sep=',').drop(\n",
    "    columns=\"Unnamed: 0\").dropna()  # données antérieures pour test de drift\n",
    "data = pd.read_csv(\"final_data/df_train.csv\", sep=',').drop(\n",
    "    columns=\"Unnamed: 0\")  # données de référence -> celles d'entrainement\n",
    "cols = df_test.columns\n",
    "df_test"
   ]
  },
  {
   "cell_type": "code",
   "execution_count": 3,
   "id": "c21a4888",
   "metadata": {},
   "outputs": [
    {
     "data": {
      "image/png": "[encoded data removed]",
      "text/plain": [
       "<Figure size 720x720 with 1 Axes>"
      ]
     },
     "metadata": {
      "needs_background": "light"
     },
     "output_type": "display_data"
    },
    {
     "data": {
      "image/png": "[encoded data removed]",
      "text/plain": [
       "<Figure size 720x720 with 1 Axes>"
      ]
     },
     "metadata": {
      "needs_background": "light"
     },
     "output_type": "display_data"
    },
    {
     "data": {
      "image/png": "[encoded data removed]",
      "text/plain": [
       "<Figure size 720x720 with 1 Axes>"
      ]
     },
     "metadata": {
      "needs_background": "light"
     },
     "output_type": "display_data"
    },
    {
     "data": {
      "image/png": "[encoded data removed]",
      "text/plain": [
       "<Figure size 720x720 with 1 Axes>"
      ]
     },
     "metadata": {
      "needs_background": "light"
     },
     "output_type": "display_data"
    },
    {
     "data": {
      "image/png": "[encoded data removed]",
      "text/plain": [
       "<Figure size 720x720 with 1 Axes>"
      ]
     },
     "metadata": {
      "needs_background": "light"
     },
     "output_type": "display_data"
    },
    {
     "data": {
      "image/png": "[encoded data removed]",
      "text/plain": [
       "<Figure size 720x720 with 1 Axes>"
      ]
     },
     "metadata": {
      "needs_background": "light"
     },
     "output_type": "display_data"
    },
    {
     "data": {
      "image/png": "[encoded data removed]",
      "text/plain": [
       "<Figure size 720x720 with 1 Axes>"
      ]
     },
     "metadata": {
      "needs_background": "light"
     },
     "output_type": "display_data"
    },
    {
     "data": {
      "image/png": "[encoded data removed]",
      "text/plain": [
       "<Figure size 720x720 with 1 Axes>"
      ]
     },
     "metadata": {
      "needs_background": "light"
     },
     "output_type": "display_data"
    },
    {
     "data": {
      "image/png": "[encoded data removed]",
      "text/plain": [
       "<Figure size 720x720 with 1 Axes>"
      ]
     },
     "metadata": {
      "needs_background": "light"
     },
     "output_type": "display_data"
    },
    {
     "data": {
      "image/png": "[encoded data removed]",
      "text/plain": [
       "<Figure size 720x720 with 1 Axes>"
      ]
     },
     "metadata": {
      "needs_background": "light"
     },
     "output_type": "display_data"
    }
   ],
   "source": [
    "for col in df_test.columns:\n",
    "    plt.figure(figsize=(10, 10))\n",
    "    plt.hist(df_test[col], bins=100, color='red', zorder=0,log=True)\n",
    "    plt.title(col)\n",
    "    plt.show()\n",
    "plt.close('all')"
   ]
  },
  {
   "cell_type": "code",
   "execution_count": 4,
   "id": "56e84f1b",
   "metadata": {},
   "outputs": [
    {
     "data": {
      "text/plain": [
       "990000.0"
      ]
     },
     "execution_count": 4,
     "metadata": {},
     "output_type": "execute_result"
    }
   ],
   "source": [
    "df_test=df_test[df_test[\"AMT_INCOME_TOTAL\"]<1000000] # outliers\n",
    "df_test[\"AMT_INCOME_TOTAL\"].max()"
   ]
  },
  {
   "cell_type": "code",
   "execution_count": 5,
   "id": "a23347af",
   "metadata": {},
   "outputs": [],
   "source": [
    "with open('pipeline/pipeline.pkl', 'rb') as file:\n",
    "    ppl = pickle.load(file)"
   ]
  },
  {
   "cell_type": "code",
   "execution_count": 6,
   "id": "1e5d0019",
   "metadata": {},
   "outputs": [
    {
     "name": "stderr",
     "output_type": "stream",
     "text": [
      "/home/camille/.local/lib/python3.10/site-packages/sklearn/base.py:443: UserWarning: X has feature names, but RobustScaler was fitted without feature names\n",
      "  warnings.warn(\n",
      "/home/camille/.local/lib/python3.10/site-packages/sklearn/base.py:450: UserWarning: X does not have valid feature names, but LogisticRegression was fitted with feature names\n",
      "  warnings.warn(\n",
      "/tmp/ipykernel_599120/3194706354.py:3: SettingWithCopyWarning: \n",
      "A value is trying to be set on a copy of a slice from a DataFrame.\n",
      "Try using .loc[row_indexer,col_indexer] = value instead\n",
      "\n",
      "See the caveats in the documentation: https://pandas.pydata.org/pandas-docs/stable/user_guide/indexing.html#returning-a-view-versus-a-copy\n",
      "  df_test['TARGET']=ppl.predict(df_test)\n"
     ]
    }
   ],
   "source": [
    "if 'TARGET' in df_test.columns:\n",
    "    df_test.drop(columns='TARGET', inplace=True)\n",
    "df_test['TARGET']=ppl.predict(df_test)"
   ]
  },
  {
   "cell_type": "code",
   "execution_count": 7,
   "id": "518af1c8",
   "metadata": {},
   "outputs": [],
   "source": [
    "# from evidently import ColumnMapping\n",
    "\n",
    "# column_mapping = ColumnMapping()\n",
    "\n",
    "# column_mapping.target = 'TARGET'\n",
    "# column_mapping.id = None \n",
    "\n",
    "# column_mapping.numerical_features = cols\n",
    "# column_mapping.categorical_features = \"CODE_GENDER\""
   ]
  },
  {
   "cell_type": "code",
   "execution_count": 8,
   "id": "9062e18d",
   "metadata": {},
   "outputs": [],
   "source": [
    "# from evidently.report import Report\n",
    "# from evidently.metric_preset import DataDriftPreset\n",
    "# from evidently.metric_preset import TargetDriftPreset\n",
    "# from evidently.options import DataDriftOptions\n",
    "\n",
    "# options = DataDriftOptions(threshold=25)\n",
    "# drift_report = Report(metrics=[DataDriftPreset(), TargetDriftPreset()], options=options)\n",
    "# drift_report.run(reference_data=data, current_data=df_test)\n",
    "# drift_report.save_html(\"P7_datadrift.html\")"
   ]
  },
  {
   "cell_type": "code",
   "execution_count": 9,
   "id": "db7e02da",
   "metadata": {},
   "outputs": [],
   "source": [
    "data=data[cols]"
   ]
  },
  {
   "cell_type": "code",
   "execution_count": 10,
   "id": "082b6901",
   "metadata": {},
   "outputs": [
    {
     "name": "stderr",
     "output_type": "stream",
     "text": [
      "/home/camille/.local/lib/python3.10/site-packages/umap/distances.py:1063: NumbaDeprecationWarning: \u001b[1mThe 'nopython' keyword argument was not supplied to the 'numba.jit' decorator. The implicit default value for this argument is currently False, but it will be changed to True in Numba 0.59.0. See https://numba.readthedocs.io/en/stable/reference/deprecation.html#deprecation-of-object-mode-fall-back-behaviour-when-using-jit for details.\u001b[0m\n",
      "  @numba.jit()\n",
      "/home/camille/.local/lib/python3.10/site-packages/umap/distances.py:1071: NumbaDeprecationWarning: \u001b[1mThe 'nopython' keyword argument was not supplied to the 'numba.jit' decorator. The implicit default value for this argument is currently False, but it will be changed to True in Numba 0.59.0. See https://numba.readthedocs.io/en/stable/reference/deprecation.html#deprecation-of-object-mode-fall-back-behaviour-when-using-jit for details.\u001b[0m\n",
      "  @numba.jit()\n",
      "/home/camille/.local/lib/python3.10/site-packages/umap/distances.py:1086: NumbaDeprecationWarning: \u001b[1mThe 'nopython' keyword argument was not supplied to the 'numba.jit' decorator. The implicit default value for this argument is currently False, but it will be changed to True in Numba 0.59.0. See https://numba.readthedocs.io/en/stable/reference/deprecation.html#deprecation-of-object-mode-fall-back-behaviour-when-using-jit for details.\u001b[0m\n",
      "  @numba.jit()\n",
      "/home/camille/.local/lib/python3.10/site-packages/umap/umap_.py:660: NumbaDeprecationWarning: \u001b[1mThe 'nopython' keyword argument was not supplied to the 'numba.jit' decorator. The implicit default value for this argument is currently False, but it will be changed to True in Numba 0.59.0. See https://numba.readthedocs.io/en/stable/reference/deprecation.html#deprecation-of-object-mode-fall-back-behaviour-when-using-jit for details.\u001b[0m\n",
      "  @numba.jit()\n",
      "2023-10-04 22:01:33.106700: I tensorflow/core/platform/cpu_feature_guard.cc:193] This TensorFlow binary is optimized with oneAPI Deep Neural Network Library (oneDNN) to use the following CPU instructions in performance-critical operations:  AVX2 FMA\n",
      "To enable them in other operations, rebuild TensorFlow with the appropriate compiler flags.\n",
      "2023-10-04 22:01:33.248567: W tensorflow/compiler/xla/stream_executor/platform/default/dso_loader.cc:64] Could not load dynamic library 'libcudart.so.11.0'; dlerror: libcudart.so.11.0: cannot open shared object file: No such file or directory\n",
      "2023-10-04 22:01:33.248586: I tensorflow/compiler/xla/stream_executor/cuda/cudart_stub.cc:29] Ignore above cudart dlerror if you do not have a GPU set up on your machine.\n",
      "2023-10-04 22:01:33.930052: W tensorflow/compiler/xla/stream_executor/platform/default/dso_loader.cc:64] Could not load dynamic library 'libnvinfer.so.7'; dlerror: libnvinfer.so.7: cannot open shared object file: No such file or directory\n",
      "2023-10-04 22:01:33.930156: W tensorflow/compiler/xla/stream_executor/platform/default/dso_loader.cc:64] Could not load dynamic library 'libnvinfer_plugin.so.7'; dlerror: libnvinfer_plugin.so.7: cannot open shared object file: No such file or directory\n",
      "2023-10-04 22:01:33.930164: W tensorflow/compiler/tf2tensorrt/utils/py_utils.cc:38] TF-TRT Warning: Cannot dlopen some TensorRT libraries. If you would like to use Nvidia GPU with TensorRT, please make sure the missing libraries mentioned above are installed properly.\n"
     ]
    },
    {
     "name": "stdout",
     "output_type": "stream",
     "text": [
      "done\n"
     ]
    }
   ],
   "source": [
    "numcols=data.drop(columns=[\"CODE_GENDER\"]).columns\n",
    "\n",
    "from evidently.report import Report\n",
    "from evidently.metric_preset import DataDriftPreset\n",
    "from evidently.metric_preset import TargetDriftPreset\n",
    "from evidently.options import DataDriftOptions\n",
    "from evidently import ColumnMapping\n",
    "\n",
    "column_mapping = ColumnMapping()\n",
    "column_mapping.id = None\n",
    "column_mapping.numerical_features = cols\n",
    "column_mapping.categorical_features = [\"CODE_GENDER\"] \n",
    "drift_report = Report(metrics=[DataDriftPreset(), TargetDriftPreset()])\n",
    "\n",
    "drift_report.column_mapping = column_mapping\n",
    "\n",
    "drift_report.run(reference_data=data, current_data=df_test)\n",
    "drift_report.save_html(\"P7_datadrift.html\")\n",
    "print(\"done\")"
   ]
  },
  {
   "cell_type": "markdown",
   "id": "d45f327e",
   "metadata": {},
   "source": [
    "# Requête à l'API\n",
    "\n",
    "Test simple du fonctionnement correct du pipeline avant mise en place du dashboard"
   ]
  },
  {
   "cell_type": "code",
   "execution_count": 11,
   "id": "09034e0a-885d-4af0-8723-3502e3b30eed",
   "metadata": {},
   "outputs": [
    {
     "data": {
      "text/html": [
       "<div>\n",
       "<style scoped>\n",
       "    .dataframe tbody tr th:only-of-type {\n",
       "        vertical-align: middle;\n",
       "    }\n",
       "\n",
       "    .dataframe tbody tr th {\n",
       "        vertical-align: top;\n",
       "    }\n",
       "\n",
       "    .dataframe thead th {\n",
       "        text-align: right;\n",
       "    }\n",
       "</style>\n",
       "<table border=\"1\" class=\"dataframe\">\n",
       "  <thead>\n",
       "    <tr style=\"text-align: right;\">\n",
       "      <th></th>\n",
       "      <th>EXT_SOURCE_3</th>\n",
       "      <th>EXT_SOURCE_2</th>\n",
       "      <th>DAYS_ID_PUBLISH</th>\n",
       "      <th>DAYS_REGISTRATION</th>\n",
       "      <th>DAYS_LAST_PHONE_CHANGE</th>\n",
       "      <th>REGION_POPULATION_RELATIVE</th>\n",
       "      <th>AMT_INCOME_TOTAL</th>\n",
       "      <th>HOUR_APPR_PROCESS_START</th>\n",
       "      <th>AMT_REQ_CREDIT_BUREAU_YEAR</th>\n",
       "      <th>CODE_GENDER</th>\n",
       "    </tr>\n",
       "  </thead>\n",
       "  <tbody>\n",
       "    <tr>\n",
       "      <th>0</th>\n",
       "      <td>0.609276</td>\n",
       "      <td>0.588927</td>\n",
       "      <td>-1247.0</td>\n",
       "      <td>-13169.0</td>\n",
       "      <td>-1626.0</td>\n",
       "      <td>0.007020</td>\n",
       "      <td>157500.0</td>\n",
       "      <td>10.0</td>\n",
       "      <td>2.0</td>\n",
       "      <td>0.0</td>\n",
       "    </tr>\n",
       "    <tr>\n",
       "      <th>1</th>\n",
       "      <td>0.659406</td>\n",
       "      <td>0.712589</td>\n",
       "      <td>-4662.0</td>\n",
       "      <td>-9017.0</td>\n",
       "      <td>-3078.0</td>\n",
       "      <td>0.030755</td>\n",
       "      <td>135000.0</td>\n",
       "      <td>13.0</td>\n",
       "      <td>1.0</td>\n",
       "      <td>0.0</td>\n",
       "    </tr>\n",
       "    <tr>\n",
       "      <th>2</th>\n",
       "      <td>0.546602</td>\n",
       "      <td>0.724572</td>\n",
       "      <td>-4308.0</td>\n",
       "      <td>-4306.0</td>\n",
       "      <td>-434.0</td>\n",
       "      <td>0.025164</td>\n",
       "      <td>180000.0</td>\n",
       "      <td>10.0</td>\n",
       "      <td>3.0</td>\n",
       "      <td>1.0</td>\n",
       "    </tr>\n",
       "    <tr>\n",
       "      <th>3</th>\n",
       "      <td>0.735221</td>\n",
       "      <td>0.588985</td>\n",
       "      <td>-504.0</td>\n",
       "      <td>-1605.0</td>\n",
       "      <td>-295.0</td>\n",
       "      <td>0.024610</td>\n",
       "      <td>202500.0</td>\n",
       "      <td>13.0</td>\n",
       "      <td>2.0</td>\n",
       "      <td>1.0</td>\n",
       "    </tr>\n",
       "    <tr>\n",
       "      <th>4</th>\n",
       "      <td>0.334454</td>\n",
       "      <td>0.750144</td>\n",
       "      <td>-3121.0</td>\n",
       "      <td>-12222.0</td>\n",
       "      <td>-2061.0</td>\n",
       "      <td>0.006008</td>\n",
       "      <td>157500.0</td>\n",
       "      <td>9.0</td>\n",
       "      <td>0.0</td>\n",
       "      <td>0.0</td>\n",
       "    </tr>\n",
       "  </tbody>\n",
       "</table>\n",
       "</div>"
      ],
      "text/plain": [
       "   EXT_SOURCE_3  EXT_SOURCE_2  DAYS_ID_PUBLISH  DAYS_REGISTRATION  \\\n",
       "0      0.609276      0.588927          -1247.0           -13169.0   \n",
       "1      0.659406      0.712589          -4662.0            -9017.0   \n",
       "2      0.546602      0.724572          -4308.0            -4306.0   \n",
       "3      0.735221      0.588985           -504.0            -1605.0   \n",
       "4      0.334454      0.750144          -3121.0           -12222.0   \n",
       "\n",
       "   DAYS_LAST_PHONE_CHANGE  REGION_POPULATION_RELATIVE  AMT_INCOME_TOTAL  \\\n",
       "0                 -1626.0                    0.007020          157500.0   \n",
       "1                 -3078.0                    0.030755          135000.0   \n",
       "2                  -434.0                    0.025164          180000.0   \n",
       "3                  -295.0                    0.024610          202500.0   \n",
       "4                 -2061.0                    0.006008          157500.0   \n",
       "\n",
       "   HOUR_APPR_PROCESS_START  AMT_REQ_CREDIT_BUREAU_YEAR  CODE_GENDER  \n",
       "0                     10.0                         2.0          0.0  \n",
       "1                     13.0                         1.0          0.0  \n",
       "2                     10.0                         3.0          1.0  \n",
       "3                     13.0                         2.0          1.0  \n",
       "4                      9.0                         0.0          0.0  "
      ]
     },
     "execution_count": 11,
     "metadata": {},
     "output_type": "execute_result"
    }
   ],
   "source": [
    "data=pd.read_csv(\"final_data/df_train.csv\", sep=',').drop(columns='Unnamed: 0')\n",
    "X=data.drop(columns='TARGET')\n",
    "X.head()"
   ]
  },
  {
   "cell_type": "markdown",
   "id": "4cf10c0c-ba17-4705-aa88-ea8028ef8301",
   "metadata": {},
   "source": [
    "## Requête de l'API sur AWS EC2"
   ]
  },
  {
   "cell_type": "code",
   "execution_count": 12,
   "id": "8c91d9a1",
   "metadata": {},
   "outputs": [
    {
     "name": "stdout",
     "output_type": "stream",
     "text": [
      "Prédictions : [[0.5741976637888524, 0.4258023362111476], [0.39340107394692403, 0.606598926053076], [0.2186138539035949, 0.7813861460964051], [0.5051856990024671, 0.4948143009975329], [0.4514027797723298, 0.5485972202276702], [0.41921516134867054, 0.5807848386513295], [0.5197219821559866, 0.4802780178440134], [0.3731614845989093, 0.6268385154010907], [0.5297794210419902, 0.47022057895800984], [0.7204625653894172, 0.2795374346105827], [0.680747772254257, 0.3192522277457431], [0.8012721524179969, 0.19872784758200313], [0.39469541694706256, 0.6053045830529374], [0.5442005882680138, 0.45579941173198624], [0.2531228428277572, 0.7468771571722428], [0.5981407030736872, 0.40185929692631284], [0.306155974299525, 0.693844025700475], [0.5210880961423808, 0.47891190385761917], [0.29291184303734186, 0.7070881569626581], [0.49374427307099256, 0.5062557269290074], [0.7048908827422606, 0.2951091172577394], [0.32917078271876954, 0.6708292172812305], [0.35416242306650203, 0.645837576933498], [0.7996763326685191, 0.20032366733148085], [0.26147142071133267, 0.7385285792886673], [0.22039425515986977, 0.7796057448401302], [0.6190380457626427, 0.38096195423735735], [0.7355811382745612, 0.2644188617254388], [0.37670668435700994, 0.6232933156429901], [0.6207224909218096, 0.37927750907819036], [0.5374559184594925, 0.46254408154050747], [0.16933264192552844, 0.8306673580744716], [0.6007285385615135, 0.3992714614384865], [0.3547300308174426, 0.6452699691825574], [0.7288950652520751, 0.2711049347479248], [0.7035098223298822, 0.29649017767011776], [0.5018626958859198, 0.49813730411408025], [0.10268927628283386, 0.8973107237171661], [0.3808797137470281, 0.6191202862529719], [0.7363971201739594, 0.26360287982604064], [0.7262692821107961, 0.2737307178892039], [0.5071772649990758, 0.4928227350009243], [0.3083198122164704, 0.6916801877835296], [0.7103338216892789, 0.28966617831072106], [0.7914487737630517, 0.2085512262369483], [0.5322262145951854, 0.4677737854048146], [0.2536588166819753, 0.7463411833180247], [0.35777511953493435, 0.6422248804650657], [0.3283284769397672, 0.6716715230602328], [0.7287714770471394, 0.27122852295286054], [0.7447805357179775, 0.25521946428202247], [0.3625544012185, 0.6374455987815], [0.7313144957951532, 0.2686855042048469], [0.2674904714370536, 0.7325095285629464], [0.2995240635812081, 0.7004759364187919], [0.25389181507652736, 0.7461081849234726], [0.273482213855923, 0.726517786144077], [0.2706519884516758, 0.7293480115483242], [0.38364704754711965, 0.6163529524528804], [0.5450047493228268, 0.45499525067717317], [0.8016007183039708, 0.1983992816960291], [0.7436073750924574, 0.2563926249075425], [0.293547768098124, 0.706452231901876], [0.450936830741934, 0.549063169258066], [0.8652523095705507, 0.13474769042944934], [0.2606080124071042, 0.7393919875928958], [0.3850746622169362, 0.6149253377830638], [0.434780234436308, 0.565219765563692], [0.834180291314032, 0.16581970868596793], [0.7066899561568367, 0.2933100438431633], [0.24928210546817953, 0.7507178945318205], [0.5229395000514121, 0.47706049994858785], [0.47211059459001326, 0.5278894054099867], [0.7251464291107244, 0.2748535708892756], [0.23489522699356058, 0.7651047730064394], [0.7031608898843758, 0.2968391101156242], [0.17017628415979447, 0.8298237158402055], [0.20846154427090924, 0.7915384557290908], [0.5976847653033952, 0.40231523469660474], [0.45546459451073884, 0.5445354054892612], [0.6807927306588368, 0.3192072693411631], [0.49876858384709244, 0.5012314161529076], [0.5009571468493546, 0.49904285315064545], [0.4683662306077693, 0.5316337693922307], [0.5628018231728216, 0.43719817682717843], [0.4742499151159336, 0.5257500848840664], [0.6316411480217561, 0.3683588519782439], [0.4057952433251737, 0.5942047566748263], [0.43117235254323394, 0.5688276474567661], [0.36341750565083264, 0.6365824943491674], [0.42337069512692294, 0.5766293048730771], [0.7438765568747434, 0.25612344312525664], [0.42219377015134985, 0.5778062298486502], [0.3303474124880884, 0.6696525875119116], [0.735909923260964, 0.26409007673903595], [0.6487710278716919, 0.35122897212830806], [0.7493890474391706, 0.25061095256082944], [0.4118561926033042, 0.5881438073966958], [0.26803745458876815, 0.7319625454112318], [0.2678219792318294, 0.7321780207681706], [0.5897023366227354, 0.41029766337726464], [0.6228285945559319, 0.37717140544406813], [0.5121471039995458, 0.4878528960004542], [0.5207704416374312, 0.47922955836256875], [0.33437171992105175, 0.6656282800789483], [0.4898847039429778, 0.5101152960570222], [0.3670844090775851, 0.6329155909224149], [0.7952126946042913, 0.2047873053957087], [0.5509239674468285, 0.44907603255317147], [0.29309605049452825, 0.7069039495054718], [0.4682982300061975, 0.5317017699938025], [0.29874002633883256, 0.7012599736611674], [0.698387090299456, 0.30161290970054394], [0.7897168764645278, 0.21028312353547218], [0.4874516476364512, 0.5125483523635488], [0.3277426353198528, 0.6722573646801472], [0.6729756952324779, 0.32702430476752203], [0.7126952951525235, 0.2873047048474765], [0.432298378910857, 0.567701621089143], [0.22215013371257641, 0.7778498662874236], [0.26220037111560934, 0.7377996288843907], [0.7138018951559921, 0.2861981048440079], [0.2097450511322786, 0.7902549488677214], [0.644429734728936, 0.3555702652710639], [0.387010339574796, 0.612989660425204], [0.23814259794336234, 0.7618574020566377], [0.5713113001786985, 0.42868869982130153], [0.359311907563312, 0.640688092436688], [0.7938386953303338, 0.20616130466966626], [0.8496048817177235, 0.1503951182822765], [0.5744583530809011, 0.42554164691909885], [0.36341639407219994, 0.6365836059278001], [0.30472948927822807, 0.6952705107217719], [0.8303286683950746, 0.16967133160492537], [0.45866438871481463, 0.5413356112851854], [0.36092247680771683, 0.6390775231922832], [0.756182736758531, 0.24381726324146896], [0.7623801325901753, 0.2376198674098246], [0.5177404737421436, 0.48225952625785645], [0.7355539297959567, 0.2644460702040433], [0.6733181772192462, 0.3266818227807538], [0.34151111320397554, 0.6584888867960245], [0.10022070177445741, 0.8997792982255426], [0.7438736589893972, 0.25612634101060283], [0.22598974265934624, 0.7740102573406538], [0.5685232225484029, 0.4314767774515971], [0.8020021452228838, 0.19799785477711612], [0.6540224340795808, 0.3459775659204191], [0.5314943210114058, 0.4685056789885942], [0.3285594026460009, 0.6714405973539991], [0.1359909764990831, 0.8640090235009169], [0.5986004480117513, 0.4013995519882488], [0.23865093096987744, 0.7613490690301226], [0.5562662869244139, 0.443733713075586], [0.5900220891767518, 0.40997791082324814], [0.6386318151397379, 0.3613681848602622], [0.6846033283720095, 0.31539667162799045], [0.6879436437642978, 0.3120563562357022], [0.2002640580941989, 0.7997359419058011], [0.32855069438426376, 0.6714493056157362], [0.4766565761177449, 0.5233434238822551], [0.4582907762877454, 0.5417092237122546], [0.3081433799353087, 0.6918566200646913], [0.5173320307580251, 0.4826679692419748], [0.7629729015724666, 0.23702709842753344], [0.5847400868250551, 0.41525991317494493], [0.36185544965150884, 0.6381445503484912], [0.19020053809337478, 0.8097994619066252], [0.6709580258429553, 0.3290419741570447], [0.7026882847153313, 0.29731171528466865], [0.41871537196142194, 0.581284628038578], [0.47493475664595075, 0.5250652433540492], [0.7290437716521754, 0.2709562283478246], [0.6022786513879568, 0.39772134861204317], [0.40937992426595393, 0.5906200757340461], [0.26635783928413725, 0.7336421607158627], [0.8123483923017818, 0.18765160769821823], [0.39168764571666803, 0.608312354283332], [0.8719506140892033, 0.1280493859107967], [0.7374633369356239, 0.26253666306437606], [0.2766880609484883, 0.7233119390515117], [0.6155408163729288, 0.3844591836270712], [0.4126422616933412, 0.5873577383066588], [0.5581207043572585, 0.4418792956427416], [0.5935102493955915, 0.40648975060440856], [0.32552525912986163, 0.6744747408701384], [0.6208208145689618, 0.3791791854310383], [0.6778324120220588, 0.3221675879779412], [0.4074352963590703, 0.5925647036409297], [0.383578495370436, 0.616421504629564], [0.311869347914119, 0.688130652085881], [0.7142040776099817, 0.2857959223900183], [0.521287107877854, 0.478712892122146], [0.5182800561775781, 0.4817199438224219], [0.17628803959260464, 0.8237119604073954], [0.5835855159868889, 0.4164144840131111], [0.508723253325278, 0.491276746674722], [0.35615381123574863, 0.6438461887642514], [0.6076370197107863, 0.3923629802892136], [0.33731407616833575, 0.6626859238316642], [0.33085605902775883, 0.6691439409722412], [0.5543674960120095, 0.44563250398799054], [0.6984704157698549, 0.30152958423014514], [0.4552662441857265, 0.5447337558142735], [0.5676978164997327, 0.4323021835002673], [0.3912563128680362, 0.6087436871319638], [0.11755359660007225, 0.8824464033999277], [0.35689289010207037, 0.6431071098979296], [0.5526535296342936, 0.44734647036570635], [0.4657272503642791, 0.5342727496357209], [0.5784732621564035, 0.42152673784359657], [0.4089238363659874, 0.5910761636340126], [0.2159613774332173, 0.7840386225667827], [0.3082731592706498, 0.6917268407293502], [0.44540606695434504, 0.554593933045655], [0.8153286262897169, 0.18467137371028305], [0.5562442438140096, 0.44375575618599034], [0.6392102971857824, 0.3607897028142176], [0.44071612623988643, 0.5592838737601136], [0.4415579096456742, 0.5584420903543258], [0.42645809763861253, 0.5735419023613875], [0.37670004088714926, 0.6232999591128507], [0.6524827185561144, 0.34751728144388555], [0.3491792434350428, 0.6508207565649572], [0.30159912872617933, 0.6984008712738207], [0.6301444352967396, 0.3698555647032605], [0.17809614103186167, 0.8219038589681383], [0.40093572280250656, 0.5990642771974934], [0.5790259094514985, 0.4209740905485015], [0.4007375138445948, 0.5992624861554052], [0.31738466169486124, 0.6826153383051388], [0.3369268583112658, 0.6630731416887342], [0.37571233929530434, 0.6242876607046957], [0.4628183204547276, 0.5371816795452724], [0.49479894440140393, 0.5052010555985961], [0.21633057181391835, 0.7836694281860817], [0.5016735857483317, 0.49832641425166835], [0.3682306946233901, 0.6317693053766099], [0.7490815910405675, 0.2509184089594325], [0.3011858272269534, 0.6988141727730466], [0.5667678226258139, 0.43323217737418607], [0.5163062726018774, 0.48369372739812255], [0.650536223696569, 0.34946377630343095], [0.5992660735698414, 0.4007339264301586], [0.6460356784006007, 0.3539643215993993], [0.5920779890593802, 0.40792201094061975], [0.35319115841759563, 0.6468088415824044], [0.39485243554891125, 0.6051475644510887], [0.5101333229258277, 0.4898666770741723], [0.37777677954969424, 0.6222232204503058], [0.7965199977512591, 0.2034800022487409], [0.4127489418951922, 0.5872510581048078], [0.14448239018409825, 0.8555176098159017], [0.7635289298329652, 0.23647107016703486], [0.321743286052692, 0.678256713947308], [0.6467509068831663, 0.3532490931168338], [0.755172547161031, 0.24482745283896898], [0.4340376592642853, 0.5659623407357147], [0.35004863737423264, 0.6499513626257674], [0.29170614983644194, 0.7082938501635581], [0.6031286856213567, 0.39687131437864337], [0.6388484208176941, 0.3611515791823059], [0.5870829867227034, 0.4129170132772965], [0.4298490499347949, 0.5701509500652051], [0.4162893849297108, 0.5837106150702892], [0.7499606843459496, 0.2500393156540503], [0.8058392594494324, 0.1941607405505677], [0.6416687397580674, 0.3583312602419327], [0.30341645319839083, 0.6965835468016092], [0.11071897165947697, 0.889281028340523], [0.26405024536180666, 0.7359497546381933], [0.5632882551677518, 0.4367117448322481], [0.6411658138249563, 0.35883418617504376], [0.740765517245815, 0.25923448275418504], [0.3569455882407716, 0.6430544117592284], [0.5516815793956921, 0.44831842060430793], [0.34538375967903956, 0.6546162403209604], [0.19024390455668738, 0.8097560954433126], [0.7669922847995136, 0.23300771520048633], [0.3554202273327204, 0.6445797726672796], [0.42540098388352054, 0.5745990161164795], [0.7781256024251156, 0.2218743975748844], [0.6123519907778717, 0.3876480092221283], [0.1963634077470463, 0.8036365922529537], [0.5414950872318302, 0.45850491276816985], [0.39790907569316514, 0.6020909243068349], [0.40175561482855104, 0.598244385171449], [0.4347320510267916, 0.5652679489732084], [0.47330157761791214, 0.5266984223820879], [0.7229812724450975, 0.2770187275549026], [0.6573192177078351, 0.342680782292165], [0.37910177842865145, 0.6208982215713486], [0.43163946303500866, 0.5683605369649913], [0.3682680727030698, 0.6317319272969302], [0.4872836899741846, 0.5127163100258154], [0.6813300238882868, 0.3186699761117132], [0.4047244365496876, 0.5952755634503124], [0.17648368628512567, 0.8235163137148743], [0.5598352121528958, 0.44016478784710417], [0.6423406833198229, 0.3576593166801771], [0.5854548090866665, 0.41454519091333353], [0.6297113101404548, 0.3702886898595452], [0.7196806996454368, 0.2803193003545632], [0.7017903092857644, 0.29820969071423564], [0.4170423342005978, 0.5829576657994022], [0.643343846219776, 0.35665615378022403], [0.7786362688777602, 0.22136373112223978], [0.23149028615950817, 0.7685097138404918], [0.581458661236784, 0.41854133876321603], [0.7047618586457092, 0.29523814135429083], [0.6008681534742788, 0.3991318465257212], [0.7060351776840356, 0.29396482231596444], [0.579741717241717, 0.420258282758283], [0.3233028208001575, 0.6766971791998425], [0.42369024776793895, 0.576309752232061], [0.5257820342885312, 0.4742179657114688], [0.5122722147225084, 0.4877277852774916], [0.7085761036703724, 0.29142389632962756], [0.7802672806030643, 0.21973271939693576], [0.27680194514713863, 0.7231980548528614], [0.3917313599136266, 0.6082686400863734], [0.5717156483946209, 0.4282843516053791], [0.22347173127853548, 0.7765282687214645], [0.6698648711723209, 0.33013512882767915], [0.4586277319429297, 0.5413722680570703], [0.3704272727270238, 0.6295727272729762], [0.5586084544071006, 0.4413915455928994], [0.46901371570520767, 0.5309862842947923], [0.5870548134971665, 0.41294518650283346], [0.5561931459655634, 0.44380685403443665], [0.47509276895799035, 0.5249072310420096], [0.4429451892126943, 0.5570548107873057], [0.3281441552073303, 0.6718558447926697], [0.420742511315777, 0.579257488684223], [0.3410192473048075, 0.6589807526951925], [0.7083174173539073, 0.29168258264609265], [0.26603367270771705, 0.733966327292283], [0.6523740466669251, 0.3476259533330749], [0.36454523624141033, 0.6354547637585897], [0.6433673981808148, 0.35663260181918516], [0.12397784063282136, 0.8760221593671786], [0.6498429679361284, 0.3501570320638716], [0.34305968490977623, 0.6569403150902238], [0.4761704625625728, 0.5238295374374272], [0.7020495714322381, 0.29795042856776194], [0.5145398941563832, 0.4854601058436167], [0.4144461273022271, 0.5855538726977729], [0.823708801343962, 0.17629119865603798], [0.5600401198696123, 0.4399598801303877], [0.15036012631279871, 0.8496398736872013], [0.6215048927199542, 0.37849510728004576], [0.1502771605048786, 0.8497228394951214], [0.703073633766609, 0.29692636623339097], [0.6405302143185149, 0.35946978568148513], [0.742880668915531, 0.257119331084469], [0.2365689796036199, 0.7634310203963801], [0.3087458426047335, 0.6912541573952665], [0.4013497990452236, 0.5986502009547764], [0.2661494563150969, 0.7338505436849031], [0.8493089429881835, 0.15069105701181656], [0.2430516900096229, 0.7569483099903771], [0.5800836673475038, 0.4199163326524961], [0.6743306522793391, 0.32566934772066086], [0.7900636036939266, 0.20993639630607347], [0.6859988159280628, 0.31400118407193717], [0.28482378997244284, 0.7151762100275572], [0.21254460876742853, 0.7874553912325715], [0.4751493319008513, 0.5248506680991487], [0.59560809641845, 0.40439190358155], [0.3762894221893006, 0.6237105778106994], [0.7699780556651494, 0.23002194433485063], [0.34739370525021007, 0.6526062947497899], [0.6817384278804857, 0.3182615721195144], [0.8356072159474587, 0.16439278405254135], [0.48953550688429737, 0.5104644931157026], [0.6461811668237847, 0.3538188331762153], [0.6144368150415911, 0.3855631849584089], [0.4308248748352459, 0.5691751251647541], [0.27674302392197114, 0.7232569760780289], [0.37213964458848237, 0.6278603554115176], [0.3027544857966258, 0.6972455142033742], [0.28802833719735843, 0.7119716628026416], [0.7557539160276161, 0.24424608397238387], [0.354009494096439, 0.645990505903561], [0.3613805311913365, 0.6386194688086635], [0.4315025798156428, 0.5684974201843572], [0.44026943272360275, 0.5597305672763973], [0.22348657390535465, 0.7765134260946454], [0.7763085778495016, 0.2236914221504984], [0.5154162748457408, 0.4845837251542592], [0.3315433494126563, 0.6684566505873437], [0.44905169240821396, 0.550948307591786], [0.6720798110697846, 0.32792018893021535], [0.35872305257654435, 0.6412769474234556], [0.19755903644675443, 0.8024409635532456], [0.3756502905081901, 0.6243497094918099], [0.70489272785376, 0.29510727214624], [0.8575640020572539, 0.14243599794274614], [0.3599627542727796, 0.6400372457272204], [0.6446358473754747, 0.3553641526245253], [0.5134475483064831, 0.48655245169351696], [0.8277269739909778, 0.1722730260090222], [0.7932459458187482, 0.20675405418125187], [0.33368358926093744, 0.6663164107390626], [0.34635456996493275, 0.6536454300350673], [0.3618046066017754, 0.6381953933982246], [0.3343924933350344, 0.6656075066649656], [0.25912279263535865, 0.7408772073646414], [0.6812061283777372, 0.3187938716222628], [0.22122604959717063, 0.7787739504028294], [0.5156758774500281, 0.4843241225499719], [0.41099286298004245, 0.5890071370199575], [0.38258414101495763, 0.6174158589850424], [0.3704697854345864, 0.6295302145654136], [0.588085217131719, 0.41191478286828104], [0.350957249623161, 0.649042750376839], [0.37555643248146764, 0.6244435675185324], [0.6158168716846336, 0.3841831283153664], [0.3071048389897093, 0.6928951610102907], [0.21911764881899432, 0.7808823511810057], [0.28079943703566235, 0.7192005629643377], [0.3910805651095518, 0.6089194348904482], [0.6963972742586336, 0.3036027257413664], [0.418503380648357, 0.581496619351643], [0.23701084195377642, 0.7629891580462236], [0.5596288934245843, 0.4403711065754156], [0.5823738491784862, 0.41762615082151383], [0.5942305861939128, 0.4057694138060873], [0.21041937246994402, 0.789580627530056], [0.6609909415944683, 0.33900905840553175], [0.7040729910359321, 0.2959270089640679], [0.5892896827202403, 0.4107103172797597], [0.4762382433792651, 0.5237617566207349], [0.22864439040078532, 0.7713556095992147], [0.3160397968103782, 0.6839602031896218], [0.3751330240379269, 0.6248669759620731], [0.42010099383486943, 0.5798990061651306], [0.3401777769066713, 0.6598222230933287], [0.32405423680405265, 0.6759457631959473], [0.45216956478965276, 0.5478304352103472], [0.3716546527333068, 0.6283453472666932], [0.2684501144933483, 0.7315498855066517], [0.26061506787446764, 0.7393849321255324], [0.4357529143685197, 0.5642470856314803], [0.6018974990371473, 0.39810250096285266], [0.41303620545326436, 0.5869637945467356], [0.4864548537737299, 0.5135451462262701], [0.376418410181951, 0.623581589818049], [0.8584380774325076, 0.1415619225674924], [0.6863502945489186, 0.3136497054510814], [0.23462259183760303, 0.765377408162397], [0.39747301474892893, 0.6025269852510711], [0.4762456523984221, 0.5237543476015779], [0.4370126619069491, 0.5629873380930509], [0.5832512299724606, 0.41674877002753935], [0.4958555595066033, 0.5041444404933967], [0.4018434605001622, 0.5981565394998378], [0.2860701439247618, 0.7139298560752382], [0.6921288594499855, 0.3078711405500145], [0.5580154482783153, 0.44198455172168477], [0.3950840135795858, 0.6049159864204142], [0.7152533085710385, 0.2847466914289615], [0.39361224324754973, 0.6063877567524503], [0.5846550629693028, 0.4153449370306972], [0.11765968175503227, 0.8823403182449677], [0.591612814845555, 0.40838718515444505], [0.45290797073574285, 0.5470920292642572], [0.8278713736040155, 0.17212862639598445], [0.4859213884365686, 0.5140786115634314], [0.5329268092902336, 0.4670731907097664], [0.25148607436236736, 0.7485139256376326], [0.4866279609211991, 0.5133720390788009], [0.16752515685508818, 0.8324748431449118], [0.2693852101313948, 0.7306147898686052], [0.4168943658776918, 0.5831056341223082], [0.5091044663819398, 0.49089553361806015], [0.6806246523909123, 0.3193753476090877], [0.6505617317276697, 0.3494382682723302], [0.7928812517777827, 0.20711874822221732], [0.26224299031645515, 0.7377570096835449], [0.33123889719864075, 0.6687611028013593], [0.39477477704943553, 0.6052252229505645], [0.7201555293081103, 0.27984447069188967], [0.4524706711955879, 0.5475293288044121], [0.7956379051347408, 0.20436209486525928], [0.6441156905808885, 0.3558843094191116], [0.24501084830136577, 0.7549891516986342], [0.6210843163688335, 0.3789156836311665], [0.35588883331187826, 0.6441111666881217], [0.7320560692626019, 0.26794393073739803], [0.7170946027682747, 0.2829053972317252], [0.5381232667093487, 0.4618767332906512], [0.22019304778953497, 0.779806952210465], [0.3866522922796446, 0.6133477077203554], [0.594606051484776, 0.405393948515224], [0.5068623310151086, 0.4931376689848915], [0.3451407952187324, 0.6548592047812676], [0.2470598814790299, 0.7529401185209701], [0.5667848412720944, 0.43321515872790567], [0.2639640076856049, 0.7360359923143951]]\n"
     ]
    }
   ],
   "source": [
    "import requests\n",
    "import pandas as pd\n",
    "\n",
    "# adresse de l'instance\n",
    "url= 'http://ec2-51-20-104-253.eu-north-1.compute.amazonaws.com:5000/home/ubuntu/Projet7_OC/'\n",
    "\n",
    "data=X.sample(500).to_json()\n",
    "\n",
    "# Envoyer la requête POST à l'API avec les données au format json\n",
    "response = requests.post(url, json=data, verify=False )\n",
    "\n",
    "# Vérifier si la requête a réussi\n",
    "if response.status_code == 200:\n",
    "    predictions = response.json()['predictions']\n",
    "    print('Prédictions :', predictions) \n",
    "else:\n",
    "    print(\"Erreur lors de l'appel de l'API :\", response.text)"
   ]
  },
  {
   "cell_type": "code",
   "execution_count": 13,
   "id": "f967ac67-6d4a-4aa8-938c-9955cce3e5d3",
   "metadata": {},
   "outputs": [
    {
     "data": {
      "text/plain": [
       "(array([ 3.,  3.,  2.,  2.,  3.,  5.,  3., 14.,  5., 12.,  8., 15., 13.,\n",
       "         7., 19.,  6., 28.,  8., 26.,  9., 21., 11., 13.,  6., 14., 14.,\n",
       "        10., 16.,  4., 16.,  8., 22., 10., 11.,  3., 22.,  2., 14., 17.,\n",
       "         8., 13., 11.,  9.,  2., 10.,  7.,  4.,  4.,  3.,  4.]),\n",
       " array([0.1   , 0.1154, 0.1308, 0.1462, 0.1616, 0.177 , 0.1924, 0.2078,\n",
       "        0.2232, 0.2386, 0.254 , 0.2694, 0.2848, 0.3002, 0.3156, 0.331 ,\n",
       "        0.3464, 0.3618, 0.3772, 0.3926, 0.408 , 0.4234, 0.4388, 0.4542,\n",
       "        0.4696, 0.485 , 0.5004, 0.5158, 0.5312, 0.5466, 0.562 , 0.5774,\n",
       "        0.5928, 0.6082, 0.6236, 0.639 , 0.6544, 0.6698, 0.6852, 0.7006,\n",
       "        0.716 , 0.7314, 0.7468, 0.7622, 0.7776, 0.793 , 0.8084, 0.8238,\n",
       "        0.8392, 0.8546, 0.87  ]),\n",
       " <BarContainer object of 50 artists>)"
      ]
     },
     "execution_count": 13,
     "metadata": {},
     "output_type": "execute_result"
    },
    {
     "data": {
      "image/png": "[encoded data removed]",
      "text/plain": [
       "<Figure size 432x288 with 1 Axes>"
      ]
     },
     "metadata": {
      "needs_background": "light"
     },
     "output_type": "display_data"
    }
   ],
   "source": [
    "# histogramme pour vérifier la distribution des prédictions\n",
    "prob0=[]\n",
    "prob1=[]\n",
    "\n",
    "for pred in predictions:\n",
    "    prob0.append(np.round(pred[0],2))\n",
    "    prob1.append(np.round(pred[1], 2))\n",
    "\n",
    "plt.hist(prob0, bins=50)"
   ]
  }
 ],
 "metadata": {
  "kernelspec": {
   "display_name": "Python 3 (ipykernel)",
   "language": "python",
   "name": "python3"
  },
  "language_info": {
   "codemirror_mode": {
    "name": "ipython",
    "version": 3
   },
   "file_extension": ".py",
   "mimetype": "text/x-python",
   "name": "python",
   "nbconvert_exporter": "python",
   "pygments_lexer": "ipython3",
   "version": "3.10.12"
  }
 },
 "nbformat": 4,
 "nbformat_minor": 5
}
